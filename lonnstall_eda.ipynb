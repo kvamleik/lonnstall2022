{
 "cells": [
  {
   "cell_type": "code",
   "execution_count": 9,
   "metadata": {},
   "outputs": [
    {
     "name": "stdout",
     "output_type": "stream",
     "text": [
      "Requirement already satisfied: plotly in c:\\users\\martin.kvammen\\anaconda3\\lib\\site-packages (5.10.0)\n",
      "Requirement already satisfied: tenacity>=6.2.0 in c:\\users\\martin.kvammen\\anaconda3\\lib\\site-packages (from plotly) (8.1.0)\n",
      "Requirement already satisfied: statsmodels in c:\\users\\martin.kvammen\\anaconda3\\lib\\site-packages (0.12.0)\n",
      "Requirement already satisfied: numpy>=1.15 in c:\\users\\martin.kvammen\\anaconda3\\lib\\site-packages (from statsmodels) (1.19.2)\n",
      "Requirement already satisfied: scipy>=1.1 in c:\\users\\martin.kvammen\\anaconda3\\lib\\site-packages (from statsmodels) (1.5.2)\n",
      "Requirement already satisfied: pandas>=0.21 in c:\\users\\martin.kvammen\\anaconda3\\lib\\site-packages (from statsmodels) (1.1.3)\n",
      "Requirement already satisfied: patsy>=0.5 in c:\\users\\martin.kvammen\\anaconda3\\lib\\site-packages (from statsmodels) (0.5.1)\n",
      "Requirement already satisfied: python-dateutil>=2.7.3 in c:\\users\\martin.kvammen\\anaconda3\\lib\\site-packages (from pandas>=0.21->statsmodels) (2.8.1)\n",
      "Requirement already satisfied: pytz>=2017.2 in c:\\users\\martin.kvammen\\anaconda3\\lib\\site-packages (from pandas>=0.21->statsmodels) (2020.1)\n",
      "Requirement already satisfied: six in c:\\users\\martin.kvammen\\anaconda3\\lib\\site-packages (from patsy>=0.5->statsmodels) (1.15.0)\n"
     ]
    }
   ],
   "source": [
    "import sys\n",
    "!{sys.executable} -m pip install plotly\n",
    "!{sys.executable} -m pip install statsmodels"
   ]
  },
  {
   "cell_type": "code",
   "execution_count": 5,
   "metadata": {},
   "outputs": [],
   "source": [
    "import numpy as np\n",
    "import pandas as pd\n",
    "import plotly.graph_objects as go\n",
    "import statsmodels.api as sm"
   ]
  },
  {
   "cell_type": "markdown",
   "metadata": {},
   "source": [
    "The data is saved as a CSV-file online so here I can just read it as it is. "
   ]
  },
  {
   "cell_type": "code",
   "execution_count": 6,
   "metadata": {},
   "outputs": [],
   "source": [
    "df = pd.read_csv(\"https://raw.githubusercontent.com/HaliaeetusAlbicilla/k24salary/master/kode24salary.csv\")"
   ]
  },
  {
   "cell_type": "code",
   "execution_count": 7,
   "metadata": {},
   "outputs": [
    {
     "data": {
      "text/html": [
       "<div>\n",
       "<style scoped>\n",
       "    .dataframe tbody tr th:only-of-type {\n",
       "        vertical-align: middle;\n",
       "    }\n",
       "\n",
       "    .dataframe tbody tr th {\n",
       "        vertical-align: top;\n",
       "    }\n",
       "\n",
       "    .dataframe thead th {\n",
       "        text-align: right;\n",
       "    }\n",
       "</style>\n",
       "<table border=\"1\" class=\"dataframe\">\n",
       "  <thead>\n",
       "    <tr style=\"text-align: right;\">\n",
       "      <th></th>\n",
       "      <th>Hva er din alder?</th>\n",
       "      <th>Hvor mange år relevant, formell utdannelse har du?</th>\n",
       "      <th>Hvor mange års relevant arbeidserfaring har du?</th>\n",
       "      <th>Hva beskriver best din arbeidssituasjon?</th>\n",
       "      <th>I hvilket fylke jobber du?</th>\n",
       "      <th>Hva jobber du mest med?</th>\n",
       "      <th>Hva er din grunnlønn? (årslønn før skatt, uten eventuelle bonuser eller overtidsbetaling)</th>\n",
       "      <th>Har du en bonusordning?</th>\n",
       "      <th>Alt i alt - sier du deg fornøyd med din egen lønn?</th>\n",
       "    </tr>\n",
       "  </thead>\n",
       "  <tbody>\n",
       "    <tr>\n",
       "      <th>0</th>\n",
       "      <td>25-29</td>\n",
       "      <td>3</td>\n",
       "      <td>1</td>\n",
       "      <td>in-house, startup</td>\n",
       "      <td>Oslo</td>\n",
       "      <td>fullstack, web</td>\n",
       "      <td>300 000,00 kr</td>\n",
       "      <td>ja</td>\n",
       "      <td>Nei</td>\n",
       "    </tr>\n",
       "    <tr>\n",
       "      <th>1</th>\n",
       "      <td>25-29</td>\n",
       "      <td>5</td>\n",
       "      <td>2</td>\n",
       "      <td>konsulent</td>\n",
       "      <td>Trøndelag</td>\n",
       "      <td>fullstack, web</td>\n",
       "      <td>350 000,00 kr</td>\n",
       "      <td>ja</td>\n",
       "      <td>Ja</td>\n",
       "    </tr>\n",
       "    <tr>\n",
       "      <th>2</th>\n",
       "      <td>30-34</td>\n",
       "      <td>5</td>\n",
       "      <td>10</td>\n",
       "      <td>konsulent</td>\n",
       "      <td>Vestland</td>\n",
       "      <td>backend, web</td>\n",
       "      <td>350 000,00 kr</td>\n",
       "      <td>ja</td>\n",
       "      <td>Ja</td>\n",
       "    </tr>\n",
       "    <tr>\n",
       "      <th>3</th>\n",
       "      <td>40-44</td>\n",
       "      <td>5</td>\n",
       "      <td>18</td>\n",
       "      <td>konsulent</td>\n",
       "      <td>Rogaland</td>\n",
       "      <td>fullstack, web</td>\n",
       "      <td>360 000,00 kr</td>\n",
       "      <td>ja</td>\n",
       "      <td>Ja</td>\n",
       "    </tr>\n",
       "    <tr>\n",
       "      <th>4</th>\n",
       "      <td>25-29</td>\n",
       "      <td>3</td>\n",
       "      <td>1</td>\n",
       "      <td>in-house, privat sektor</td>\n",
       "      <td>Nordland</td>\n",
       "      <td>backend, web</td>\n",
       "      <td>370 000,00 kr</td>\n",
       "      <td>nei</td>\n",
       "      <td>Ja</td>\n",
       "    </tr>\n",
       "  </tbody>\n",
       "</table>\n",
       "</div>"
      ],
      "text/plain": [
       "  Hva er din alder? Hvor mange år relevant, formell utdannelse har du?  \\\n",
       "0             25-29                                                  3   \n",
       "1             25-29                                                  5   \n",
       "2             30-34                                                  5   \n",
       "3             40-44                                                  5   \n",
       "4             25-29                                                  3   \n",
       "\n",
       "  Hvor mange års relevant arbeidserfaring har du?  \\\n",
       "0                                               1   \n",
       "1                                               2   \n",
       "2                                              10   \n",
       "3                                              18   \n",
       "4                                               1   \n",
       "\n",
       "  Hva beskriver best din arbeidssituasjon? I hvilket fylke jobber du?  \\\n",
       "0                        in-house, startup                       Oslo   \n",
       "1                                konsulent                  Trøndelag   \n",
       "2                                konsulent                   Vestland   \n",
       "3                                konsulent                   Rogaland   \n",
       "4                  in-house, privat sektor                   Nordland   \n",
       "\n",
       "  Hva jobber du mest med?  \\\n",
       "0          fullstack, web   \n",
       "1          fullstack, web   \n",
       "2            backend, web   \n",
       "3          fullstack, web   \n",
       "4            backend, web   \n",
       "\n",
       "  Hva er din grunnlønn? (årslønn før skatt, uten eventuelle bonuser eller overtidsbetaling)  \\\n",
       "0                                      300 000,00 kr                                          \n",
       "1                                      350 000,00 kr                                          \n",
       "2                                      350 000,00 kr                                          \n",
       "3                                      360 000,00 kr                                          \n",
       "4                                      370 000,00 kr                                          \n",
       "\n",
       "  Har du en bonusordning? Alt i alt - sier du deg fornøyd med din egen lønn?  \n",
       "0                      ja                                                Nei  \n",
       "1                      ja                                                 Ja  \n",
       "2                      ja                                                 Ja  \n",
       "3                      ja                                                 Ja  \n",
       "4                     nei                                                 Ja  "
      ]
     },
     "execution_count": 7,
     "metadata": {},
     "output_type": "execute_result"
    }
   ],
   "source": [
    "df.head()"
   ]
  },
  {
   "cell_type": "code",
   "execution_count": null,
   "metadata": {},
   "outputs": [],
   "source": []
  }
 ],
 "metadata": {
  "kernelspec": {
   "display_name": "Python 3",
   "language": "python",
   "name": "python3"
  },
  "language_info": {
   "codemirror_mode": {
    "name": "ipython",
    "version": 3
   },
   "file_extension": ".py",
   "mimetype": "text/x-python",
   "name": "python",
   "nbconvert_exporter": "python",
   "pygments_lexer": "ipython3",
   "version": "3.8.5"
  }
 },
 "nbformat": 4,
 "nbformat_minor": 4
}
