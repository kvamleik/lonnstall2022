{
 "cells": [
  {
   "cell_type": "markdown",
   "metadata": {},
   "source": [
    "import sys\n",
    "!{sys.executable} -m pip install plotly\n",
    "!{sys.executable} -m pip install statsmodels"
   ]
  },
  {
   "cell_type": "code",
   "execution_count": 64,
   "metadata": {},
   "outputs": [],
   "source": [
    "import numpy as np\n",
    "import pandas as pd\n",
    "import plotly.graph_objects as go\n",
    "import statsmodels.api as sm\n",
    "import matplotlib.pylab as plt\n",
    "import seaborn as sns"
   ]
  },
  {
   "cell_type": "markdown",
   "metadata": {},
   "source": [
    "The data is saved as a CSV-file online so here I can just read it as it is. "
   ]
  },
  {
   "cell_type": "code",
   "execution_count": 65,
   "metadata": {},
   "outputs": [],
   "source": [
    "df = pd.read_csv(\"https://raw.githubusercontent.com/HaliaeetusAlbicilla/k24salary/master/kode24salary.csv\")"
   ]
  },
  {
   "cell_type": "markdown",
   "metadata": {},
   "source": [
    "Familiarizing with the dataset"
   ]
  },
  {
   "cell_type": "code",
   "execution_count": 66,
   "metadata": {},
   "outputs": [
    {
     "data": {
      "text/html": [
       "<div>\n",
       "<style scoped>\n",
       "    .dataframe tbody tr th:only-of-type {\n",
       "        vertical-align: middle;\n",
       "    }\n",
       "\n",
       "    .dataframe tbody tr th {\n",
       "        vertical-align: top;\n",
       "    }\n",
       "\n",
       "    .dataframe thead th {\n",
       "        text-align: right;\n",
       "    }\n",
       "</style>\n",
       "<table border=\"1\" class=\"dataframe\">\n",
       "  <thead>\n",
       "    <tr style=\"text-align: right;\">\n",
       "      <th></th>\n",
       "      <th>Hva er din alder?</th>\n",
       "      <th>Hvor mange år relevant, formell utdannelse har du?</th>\n",
       "      <th>Hvor mange års relevant arbeidserfaring har du?</th>\n",
       "      <th>Hva beskriver best din arbeidssituasjon?</th>\n",
       "      <th>I hvilket fylke jobber du?</th>\n",
       "      <th>Hva jobber du mest med?</th>\n",
       "      <th>Hva er din grunnlønn? (årslønn før skatt, uten eventuelle bonuser eller overtidsbetaling)</th>\n",
       "      <th>Har du en bonusordning?</th>\n",
       "      <th>Alt i alt - sier du deg fornøyd med din egen lønn?</th>\n",
       "    </tr>\n",
       "  </thead>\n",
       "  <tbody>\n",
       "    <tr>\n",
       "      <th>0</th>\n",
       "      <td>25-29</td>\n",
       "      <td>3</td>\n",
       "      <td>1</td>\n",
       "      <td>in-house, startup</td>\n",
       "      <td>Oslo</td>\n",
       "      <td>fullstack, web</td>\n",
       "      <td>300 000,00 kr</td>\n",
       "      <td>ja</td>\n",
       "      <td>Nei</td>\n",
       "    </tr>\n",
       "    <tr>\n",
       "      <th>1</th>\n",
       "      <td>25-29</td>\n",
       "      <td>5</td>\n",
       "      <td>2</td>\n",
       "      <td>konsulent</td>\n",
       "      <td>Trøndelag</td>\n",
       "      <td>fullstack, web</td>\n",
       "      <td>350 000,00 kr</td>\n",
       "      <td>ja</td>\n",
       "      <td>Ja</td>\n",
       "    </tr>\n",
       "    <tr>\n",
       "      <th>2</th>\n",
       "      <td>30-34</td>\n",
       "      <td>5</td>\n",
       "      <td>10</td>\n",
       "      <td>konsulent</td>\n",
       "      <td>Vestland</td>\n",
       "      <td>backend, web</td>\n",
       "      <td>350 000,00 kr</td>\n",
       "      <td>ja</td>\n",
       "      <td>Ja</td>\n",
       "    </tr>\n",
       "    <tr>\n",
       "      <th>3</th>\n",
       "      <td>40-44</td>\n",
       "      <td>5</td>\n",
       "      <td>18</td>\n",
       "      <td>konsulent</td>\n",
       "      <td>Rogaland</td>\n",
       "      <td>fullstack, web</td>\n",
       "      <td>360 000,00 kr</td>\n",
       "      <td>ja</td>\n",
       "      <td>Ja</td>\n",
       "    </tr>\n",
       "    <tr>\n",
       "      <th>4</th>\n",
       "      <td>25-29</td>\n",
       "      <td>3</td>\n",
       "      <td>1</td>\n",
       "      <td>in-house, privat sektor</td>\n",
       "      <td>Nordland</td>\n",
       "      <td>backend, web</td>\n",
       "      <td>370 000,00 kr</td>\n",
       "      <td>nei</td>\n",
       "      <td>Ja</td>\n",
       "    </tr>\n",
       "  </tbody>\n",
       "</table>\n",
       "</div>"
      ],
      "text/plain": [
       "  Hva er din alder? Hvor mange år relevant, formell utdannelse har du?  \\\n",
       "0             25-29                                                  3   \n",
       "1             25-29                                                  5   \n",
       "2             30-34                                                  5   \n",
       "3             40-44                                                  5   \n",
       "4             25-29                                                  3   \n",
       "\n",
       "  Hvor mange års relevant arbeidserfaring har du?  \\\n",
       "0                                               1   \n",
       "1                                               2   \n",
       "2                                              10   \n",
       "3                                              18   \n",
       "4                                               1   \n",
       "\n",
       "  Hva beskriver best din arbeidssituasjon? I hvilket fylke jobber du?  \\\n",
       "0                        in-house, startup                       Oslo   \n",
       "1                                konsulent                  Trøndelag   \n",
       "2                                konsulent                   Vestland   \n",
       "3                                konsulent                   Rogaland   \n",
       "4                  in-house, privat sektor                   Nordland   \n",
       "\n",
       "  Hva jobber du mest med?  \\\n",
       "0          fullstack, web   \n",
       "1          fullstack, web   \n",
       "2            backend, web   \n",
       "3          fullstack, web   \n",
       "4            backend, web   \n",
       "\n",
       "  Hva er din grunnlønn? (årslønn før skatt, uten eventuelle bonuser eller overtidsbetaling)  \\\n",
       "0                                      300 000,00 kr                                          \n",
       "1                                      350 000,00 kr                                          \n",
       "2                                      350 000,00 kr                                          \n",
       "3                                      360 000,00 kr                                          \n",
       "4                                      370 000,00 kr                                          \n",
       "\n",
       "  Har du en bonusordning? Alt i alt - sier du deg fornøyd med din egen lønn?  \n",
       "0                      ja                                                Nei  \n",
       "1                      ja                                                 Ja  \n",
       "2                      ja                                                 Ja  \n",
       "3                      ja                                                 Ja  \n",
       "4                     nei                                                 Ja  "
      ]
     },
     "execution_count": 66,
     "metadata": {},
     "output_type": "execute_result"
    }
   ],
   "source": [
    "df.head()"
   ]
  },
  {
   "cell_type": "markdown",
   "metadata": {},
   "source": [
    "Cleaning up the column names to simplify"
   ]
  },
  {
   "cell_type": "code",
   "execution_count": 67,
   "metadata": {},
   "outputs": [
    {
     "data": {
      "text/html": [
       "<div>\n",
       "<style scoped>\n",
       "    .dataframe tbody tr th:only-of-type {\n",
       "        vertical-align: middle;\n",
       "    }\n",
       "\n",
       "    .dataframe tbody tr th {\n",
       "        vertical-align: top;\n",
       "    }\n",
       "\n",
       "    .dataframe thead th {\n",
       "        text-align: right;\n",
       "    }\n",
       "</style>\n",
       "<table border=\"1\" class=\"dataframe\">\n",
       "  <thead>\n",
       "    <tr style=\"text-align: right;\">\n",
       "      <th></th>\n",
       "      <th>age</th>\n",
       "      <th>education</th>\n",
       "      <th>experience</th>\n",
       "      <th>work_situation</th>\n",
       "      <th>no_county</th>\n",
       "      <th>work_field</th>\n",
       "      <th>wage</th>\n",
       "      <th>bonus</th>\n",
       "      <th>satisfied</th>\n",
       "    </tr>\n",
       "  </thead>\n",
       "  <tbody>\n",
       "    <tr>\n",
       "      <th>0</th>\n",
       "      <td>25-29</td>\n",
       "      <td>3</td>\n",
       "      <td>1</td>\n",
       "      <td>in-house, startup</td>\n",
       "      <td>Oslo</td>\n",
       "      <td>fullstack, web</td>\n",
       "      <td>300 000,00 kr</td>\n",
       "      <td>ja</td>\n",
       "      <td>Nei</td>\n",
       "    </tr>\n",
       "    <tr>\n",
       "      <th>1</th>\n",
       "      <td>25-29</td>\n",
       "      <td>5</td>\n",
       "      <td>2</td>\n",
       "      <td>konsulent</td>\n",
       "      <td>Trøndelag</td>\n",
       "      <td>fullstack, web</td>\n",
       "      <td>350 000,00 kr</td>\n",
       "      <td>ja</td>\n",
       "      <td>Ja</td>\n",
       "    </tr>\n",
       "    <tr>\n",
       "      <th>2</th>\n",
       "      <td>30-34</td>\n",
       "      <td>5</td>\n",
       "      <td>10</td>\n",
       "      <td>konsulent</td>\n",
       "      <td>Vestland</td>\n",
       "      <td>backend, web</td>\n",
       "      <td>350 000,00 kr</td>\n",
       "      <td>ja</td>\n",
       "      <td>Ja</td>\n",
       "    </tr>\n",
       "    <tr>\n",
       "      <th>3</th>\n",
       "      <td>40-44</td>\n",
       "      <td>5</td>\n",
       "      <td>18</td>\n",
       "      <td>konsulent</td>\n",
       "      <td>Rogaland</td>\n",
       "      <td>fullstack, web</td>\n",
       "      <td>360 000,00 kr</td>\n",
       "      <td>ja</td>\n",
       "      <td>Ja</td>\n",
       "    </tr>\n",
       "    <tr>\n",
       "      <th>4</th>\n",
       "      <td>25-29</td>\n",
       "      <td>3</td>\n",
       "      <td>1</td>\n",
       "      <td>in-house, privat sektor</td>\n",
       "      <td>Nordland</td>\n",
       "      <td>backend, web</td>\n",
       "      <td>370 000,00 kr</td>\n",
       "      <td>nei</td>\n",
       "      <td>Ja</td>\n",
       "    </tr>\n",
       "  </tbody>\n",
       "</table>\n",
       "</div>"
      ],
      "text/plain": [
       "     age education experience           work_situation  no_county  \\\n",
       "0  25-29         3          1        in-house, startup       Oslo   \n",
       "1  25-29         5          2                konsulent  Trøndelag   \n",
       "2  30-34         5         10                konsulent   Vestland   \n",
       "3  40-44         5         18                konsulent   Rogaland   \n",
       "4  25-29         3          1  in-house, privat sektor   Nordland   \n",
       "\n",
       "       work_field           wage bonus satisfied  \n",
       "0  fullstack, web  300 000,00 kr    ja       Nei  \n",
       "1  fullstack, web  350 000,00 kr    ja        Ja  \n",
       "2    backend, web  350 000,00 kr    ja        Ja  \n",
       "3  fullstack, web  360 000,00 kr    ja        Ja  \n",
       "4    backend, web  370 000,00 kr   nei        Ja  "
      ]
     },
     "execution_count": 67,
     "metadata": {},
     "output_type": "execute_result"
    }
   ],
   "source": [
    "df.columns = [\n",
    "    \"age\",\n",
    "    \"education\",\n",
    "    \"experience\",\n",
    "    \"work_situation\",\n",
    "    \"no_county\",\n",
    "    \"work_field\",\n",
    "    \"wage\",\n",
    "    \"bonus\",\n",
    "    \"satisfied\",\n",
    "]\n",
    "df.head()"
   ]
  },
  {
   "cell_type": "code",
   "execution_count": 68,
   "metadata": {},
   "outputs": [
    {
     "data": {
      "text/plain": [
       "(1203, 9)"
      ]
     },
     "execution_count": 68,
     "metadata": {},
     "output_type": "execute_result"
    }
   ],
   "source": [
    "df.shape"
   ]
  },
  {
   "cell_type": "code",
   "execution_count": 69,
   "metadata": {},
   "outputs": [
    {
     "data": {
      "text/plain": [
       "age                 9\n",
       "education          17\n",
       "experience         43\n",
       "work_situation      5\n",
       "no_county          12\n",
       "work_field         16\n",
       "wage              334\n",
       "bonus               2\n",
       "satisfied           2\n",
       "dtype: int64"
      ]
     },
     "execution_count": 69,
     "metadata": {},
     "output_type": "execute_result"
    }
   ],
   "source": [
    "df.nunique(axis=0)"
   ]
  },
  {
   "cell_type": "code",
   "execution_count": 70,
   "metadata": {},
   "outputs": [
    {
     "data": {
      "text/plain": [
       "in-house, privat sektor                  552\n",
       "konsulent                                426\n",
       "in-house, offentlig/kommunal sektor      127\n",
       "in-house, startup                         68\n",
       "frilans / selvstendig næringsdrivende     30\n",
       "Name: work_situation, dtype: int64"
      ]
     },
     "execution_count": 70,
     "metadata": {},
     "output_type": "execute_result"
    }
   ],
   "source": [
    "df.work_situation.value_counts()"
   ]
  },
  {
   "cell_type": "code",
   "execution_count": 71,
   "metadata": {},
   "outputs": [
    {
     "data": {
      "text/plain": [
       "fullstack, web             369\n",
       "backend, web               197\n",
       "frontend, web              193\n",
       "programvare                 74\n",
       "devops                      54\n",
       "arkitektur                  50\n",
       "ledelse/administrativt      49\n",
       "embedded/IOT/maskinvare     46\n",
       "app                         45\n",
       "data science                30\n",
       "automatisering              19\n",
       "annet                       18\n",
       "sikkerhet                   17\n",
       "databaser                   17\n",
       "UX / design                 14\n",
       "testing                     11\n",
       "Name: work_field, dtype: int64"
      ]
     },
     "execution_count": 71,
     "metadata": {},
     "output_type": "execute_result"
    }
   ],
   "source": [
    "df.work_field.value_counts()"
   ]
  },
  {
   "cell_type": "markdown",
   "metadata": {},
   "source": [
    "Most people work in-house in private sector and least people work independetly. \n",
    "\n",
    "Now let's split up the age so that we do not have an interval and also the wage input need to be changed so that we do not have \"kr\" at the end. "
   ]
  },
  {
   "cell_type": "code",
   "execution_count": 72,
   "metadata": {},
   "outputs": [],
   "source": [
    "# Splitting the age column into two by splitting on \"-\" operator. N=1 specifies number of max separations and \n",
    "# expand = True returns a data frame with different value in different columns if True. Also, we drop the old age column\n",
    "df[[\"young_age\", \"old_age\"]] = df[\"age\"].str.split(\"-\", n=1, expand=True)\n",
    "df = df.drop(\"age\", axis=1)"
   ]
  },
  {
   "cell_type": "code",
   "execution_count": 73,
   "metadata": {},
   "outputs": [
    {
     "name": "stdout",
     "output_type": "stream",
     "text": [
      "999 000,00 kr\n"
     ]
    },
    {
     "data": {
      "text/html": [
       "<div>\n",
       "<style scoped>\n",
       "    .dataframe tbody tr th:only-of-type {\n",
       "        vertical-align: middle;\n",
       "    }\n",
       "\n",
       "    .dataframe tbody tr th {\n",
       "        vertical-align: top;\n",
       "    }\n",
       "\n",
       "    .dataframe thead th {\n",
       "        text-align: right;\n",
       "    }\n",
       "</style>\n",
       "<table border=\"1\" class=\"dataframe\">\n",
       "  <thead>\n",
       "    <tr style=\"text-align: right;\">\n",
       "      <th></th>\n",
       "      <th>education</th>\n",
       "      <th>experience</th>\n",
       "      <th>work_situation</th>\n",
       "      <th>no_county</th>\n",
       "      <th>work_field</th>\n",
       "      <th>wage</th>\n",
       "      <th>bonus</th>\n",
       "      <th>satisfied</th>\n",
       "      <th>young_age</th>\n",
       "      <th>old_age</th>\n",
       "    </tr>\n",
       "  </thead>\n",
       "  <tbody>\n",
       "    <tr>\n",
       "      <th>0</th>\n",
       "      <td>3</td>\n",
       "      <td>1</td>\n",
       "      <td>in-house, startup</td>\n",
       "      <td>Oslo</td>\n",
       "      <td>fullstack, web</td>\n",
       "      <td>300 000,00</td>\n",
       "      <td>ja</td>\n",
       "      <td>Nei</td>\n",
       "      <td>25</td>\n",
       "      <td>29</td>\n",
       "    </tr>\n",
       "    <tr>\n",
       "      <th>1</th>\n",
       "      <td>5</td>\n",
       "      <td>2</td>\n",
       "      <td>konsulent</td>\n",
       "      <td>Trøndelag</td>\n",
       "      <td>fullstack, web</td>\n",
       "      <td>350 000,00</td>\n",
       "      <td>ja</td>\n",
       "      <td>Ja</td>\n",
       "      <td>25</td>\n",
       "      <td>29</td>\n",
       "    </tr>\n",
       "    <tr>\n",
       "      <th>2</th>\n",
       "      <td>5</td>\n",
       "      <td>10</td>\n",
       "      <td>konsulent</td>\n",
       "      <td>Vestland</td>\n",
       "      <td>backend, web</td>\n",
       "      <td>350 000,00</td>\n",
       "      <td>ja</td>\n",
       "      <td>Ja</td>\n",
       "      <td>30</td>\n",
       "      <td>34</td>\n",
       "    </tr>\n",
       "    <tr>\n",
       "      <th>3</th>\n",
       "      <td>5</td>\n",
       "      <td>18</td>\n",
       "      <td>konsulent</td>\n",
       "      <td>Rogaland</td>\n",
       "      <td>fullstack, web</td>\n",
       "      <td>360 000,00</td>\n",
       "      <td>ja</td>\n",
       "      <td>Ja</td>\n",
       "      <td>40</td>\n",
       "      <td>44</td>\n",
       "    </tr>\n",
       "    <tr>\n",
       "      <th>4</th>\n",
       "      <td>3</td>\n",
       "      <td>1</td>\n",
       "      <td>in-house, privat sektor</td>\n",
       "      <td>Nordland</td>\n",
       "      <td>backend, web</td>\n",
       "      <td>370 000,00</td>\n",
       "      <td>nei</td>\n",
       "      <td>Ja</td>\n",
       "      <td>25</td>\n",
       "      <td>29</td>\n",
       "    </tr>\n",
       "  </tbody>\n",
       "</table>\n",
       "</div>"
      ],
      "text/plain": [
       "  education experience           work_situation  no_county      work_field  \\\n",
       "0         3          1        in-house, startup       Oslo  fullstack, web   \n",
       "1         5          2                konsulent  Trøndelag  fullstack, web   \n",
       "2         5         10                konsulent   Vestland    backend, web   \n",
       "3         5         18                konsulent   Rogaland  fullstack, web   \n",
       "4         3          1  in-house, privat sektor   Nordland    backend, web   \n",
       "\n",
       "         wage bonus satisfied young_age old_age  \n",
       "0  300 000,00    ja       Nei        25      29  \n",
       "1  350 000,00    ja        Ja        25      29  \n",
       "2  350 000,00    ja        Ja        30      34  \n",
       "3  360 000,00    ja        Ja        40      44  \n",
       "4  370 000,00   nei        Ja        25      29  "
      ]
     },
     "execution_count": 73,
     "metadata": {},
     "output_type": "execute_result"
    }
   ],
   "source": [
    "# Now let's fix the wage column\n",
    "print(df.wage.max())\n",
    "df.wage = df.wage.str.replace(\" kr\", \"\")\n",
    "df.head()\n"
   ]
  },
  {
   "cell_type": "markdown",
   "metadata": {},
   "source": [
    "Okay, also need to fix the punctuation and spaces."
   ]
  },
  {
   "cell_type": "code",
   "execution_count": 74,
   "metadata": {},
   "outputs": [],
   "source": [
    "df.wage = df.wage.str.replace(\",\", \".\")"
   ]
  },
  {
   "cell_type": "code",
   "execution_count": 75,
   "metadata": {},
   "outputs": [
    {
     "name": "stdout",
     "output_type": "stream",
     "text": [
      "education         object\n",
      "experience        object\n",
      "work_situation    object\n",
      "no_county         object\n",
      "work_field        object\n",
      "wage              object\n",
      "bonus             object\n",
      "satisfied         object\n",
      "young_age         object\n",
      "old_age           object\n",
      "dtype: object\n"
     ]
    }
   ],
   "source": [
    "print(df.dtypes)"
   ]
  },
  {
   "cell_type": "code",
   "execution_count": 76,
   "metadata": {},
   "outputs": [],
   "source": [
    "df.wage = df.wage.str.replace(\" \", \"\")"
   ]
  },
  {
   "cell_type": "code",
   "execution_count": 77,
   "metadata": {},
   "outputs": [
    {
     "data": {
      "text/plain": [
       "'350000.00'"
      ]
     },
     "execution_count": 77,
     "metadata": {},
     "output_type": "execute_result"
    }
   ],
   "source": [
    "df.wage[1]"
   ]
  },
  {
   "cell_type": "code",
   "execution_count": 78,
   "metadata": {},
   "outputs": [
    {
     "data": {
      "text/html": [
       "<div>\n",
       "<style scoped>\n",
       "    .dataframe tbody tr th:only-of-type {\n",
       "        vertical-align: middle;\n",
       "    }\n",
       "\n",
       "    .dataframe tbody tr th {\n",
       "        vertical-align: top;\n",
       "    }\n",
       "\n",
       "    .dataframe thead th {\n",
       "        text-align: right;\n",
       "    }\n",
       "</style>\n",
       "<table border=\"1\" class=\"dataframe\">\n",
       "  <thead>\n",
       "    <tr style=\"text-align: right;\">\n",
       "      <th></th>\n",
       "      <th>education</th>\n",
       "      <th>experience</th>\n",
       "      <th>work_situation</th>\n",
       "      <th>no_county</th>\n",
       "      <th>work_field</th>\n",
       "      <th>wage</th>\n",
       "      <th>bonus</th>\n",
       "      <th>satisfied</th>\n",
       "      <th>young_age</th>\n",
       "      <th>old_age</th>\n",
       "    </tr>\n",
       "  </thead>\n",
       "  <tbody>\n",
       "    <tr>\n",
       "      <th>0</th>\n",
       "      <td>3</td>\n",
       "      <td>1</td>\n",
       "      <td>in-house, startup</td>\n",
       "      <td>Oslo</td>\n",
       "      <td>fullstack, web</td>\n",
       "      <td>300000.00</td>\n",
       "      <td>ja</td>\n",
       "      <td>Nei</td>\n",
       "      <td>25</td>\n",
       "      <td>29</td>\n",
       "    </tr>\n",
       "    <tr>\n",
       "      <th>1</th>\n",
       "      <td>5</td>\n",
       "      <td>2</td>\n",
       "      <td>konsulent</td>\n",
       "      <td>Trøndelag</td>\n",
       "      <td>fullstack, web</td>\n",
       "      <td>350000.00</td>\n",
       "      <td>ja</td>\n",
       "      <td>Ja</td>\n",
       "      <td>25</td>\n",
       "      <td>29</td>\n",
       "    </tr>\n",
       "    <tr>\n",
       "      <th>2</th>\n",
       "      <td>5</td>\n",
       "      <td>10</td>\n",
       "      <td>konsulent</td>\n",
       "      <td>Vestland</td>\n",
       "      <td>backend, web</td>\n",
       "      <td>350000.00</td>\n",
       "      <td>ja</td>\n",
       "      <td>Ja</td>\n",
       "      <td>30</td>\n",
       "      <td>34</td>\n",
       "    </tr>\n",
       "    <tr>\n",
       "      <th>3</th>\n",
       "      <td>5</td>\n",
       "      <td>18</td>\n",
       "      <td>konsulent</td>\n",
       "      <td>Rogaland</td>\n",
       "      <td>fullstack, web</td>\n",
       "      <td>360000.00</td>\n",
       "      <td>ja</td>\n",
       "      <td>Ja</td>\n",
       "      <td>40</td>\n",
       "      <td>44</td>\n",
       "    </tr>\n",
       "    <tr>\n",
       "      <th>4</th>\n",
       "      <td>3</td>\n",
       "      <td>1</td>\n",
       "      <td>in-house, privat sektor</td>\n",
       "      <td>Nordland</td>\n",
       "      <td>backend, web</td>\n",
       "      <td>370000.00</td>\n",
       "      <td>nei</td>\n",
       "      <td>Ja</td>\n",
       "      <td>25</td>\n",
       "      <td>29</td>\n",
       "    </tr>\n",
       "  </tbody>\n",
       "</table>\n",
       "</div>"
      ],
      "text/plain": [
       "  education experience           work_situation  no_county      work_field  \\\n",
       "0         3          1        in-house, startup       Oslo  fullstack, web   \n",
       "1         5          2                konsulent  Trøndelag  fullstack, web   \n",
       "2         5         10                konsulent   Vestland    backend, web   \n",
       "3         5         18                konsulent   Rogaland  fullstack, web   \n",
       "4         3          1  in-house, privat sektor   Nordland    backend, web   \n",
       "\n",
       "        wage bonus satisfied young_age old_age  \n",
       "0  300000.00    ja       Nei        25      29  \n",
       "1  350000.00    ja        Ja        25      29  \n",
       "2  350000.00    ja        Ja        30      34  \n",
       "3  360000.00    ja        Ja        40      44  \n",
       "4  370000.00   nei        Ja        25      29  "
      ]
     },
     "execution_count": 78,
     "metadata": {},
     "output_type": "execute_result"
    }
   ],
   "source": [
    "df.head()"
   ]
  },
  {
   "cell_type": "code",
   "execution_count": 79,
   "metadata": {},
   "outputs": [],
   "source": [
    "df.wage = df.wage.astype(float)"
   ]
  },
  {
   "cell_type": "code",
   "execution_count": 80,
   "metadata": {},
   "outputs": [
    {
     "data": {
      "text/plain": [
       "2600000.0"
      ]
     },
     "execution_count": 80,
     "metadata": {},
     "output_type": "execute_result"
    }
   ],
   "source": [
    "df.wage.max()"
   ]
  },
  {
   "cell_type": "markdown",
   "metadata": {},
   "source": [
    "Wow. Who is this person?"
   ]
  },
  {
   "cell_type": "code",
   "execution_count": 81,
   "metadata": {},
   "outputs": [
    {
     "data": {
      "text/html": [
       "<div>\n",
       "<style scoped>\n",
       "    .dataframe tbody tr th:only-of-type {\n",
       "        vertical-align: middle;\n",
       "    }\n",
       "\n",
       "    .dataframe tbody tr th {\n",
       "        vertical-align: top;\n",
       "    }\n",
       "\n",
       "    .dataframe thead th {\n",
       "        text-align: right;\n",
       "    }\n",
       "</style>\n",
       "<table border=\"1\" class=\"dataframe\">\n",
       "  <thead>\n",
       "    <tr style=\"text-align: right;\">\n",
       "      <th></th>\n",
       "      <th>education</th>\n",
       "      <th>experience</th>\n",
       "      <th>work_situation</th>\n",
       "      <th>no_county</th>\n",
       "      <th>work_field</th>\n",
       "      <th>wage</th>\n",
       "      <th>bonus</th>\n",
       "      <th>satisfied</th>\n",
       "      <th>young_age</th>\n",
       "      <th>old_age</th>\n",
       "    </tr>\n",
       "  </thead>\n",
       "  <tbody>\n",
       "    <tr>\n",
       "      <th>1202</th>\n",
       "      <td>5</td>\n",
       "      <td>15</td>\n",
       "      <td>frilans / selvstendig næringsdrivende</td>\n",
       "      <td>Oslo</td>\n",
       "      <td>arkitektur</td>\n",
       "      <td>2600000.0</td>\n",
       "      <td>nei</td>\n",
       "      <td>Ja</td>\n",
       "      <td>35</td>\n",
       "      <td>39</td>\n",
       "    </tr>\n",
       "  </tbody>\n",
       "</table>\n",
       "</div>"
      ],
      "text/plain": [
       "     education experience                         work_situation no_county  \\\n",
       "1202         5         15  frilans / selvstendig næringsdrivende      Oslo   \n",
       "\n",
       "      work_field       wage bonus satisfied young_age old_age  \n",
       "1202  arkitektur  2600000.0   nei        Ja        35      39  "
      ]
     },
     "execution_count": 81,
     "metadata": {},
     "output_type": "execute_result"
    }
   ],
   "source": [
    "df[df.wage == 2600000.0]"
   ]
  },
  {
   "cell_type": "code",
   "execution_count": 82,
   "metadata": {},
   "outputs": [],
   "source": [
    "# Let's include this to simply output graphs in html\n",
    "\n",
    "def figwrite(filename):\n",
    "    \n",
    "    fig.write_html(\n",
    "        f\"{filename}.html\",\n",
    "        include_plotlyjs=\"cdn\",\n",
    "    )"
   ]
  },
  {
   "cell_type": "markdown",
   "metadata": {},
   "source": [
    "##Distribution \n",
    "\n",
    "Now that the data is more or less clean, let's have a look at distribution"
   ]
  },
  {
   "cell_type": "code",
   "execution_count": 83,
   "metadata": {},
   "outputs": [
    {
     "data": {
      "application/vnd.plotly.v1+json": {
       "config": {
        "plotlyServerURL": "https://plot.ly"
       },
       "data": [
        {
         "alignmentgroup": "True",
         "bingroup": "x",
         "hovertemplate": "wage=%{x}<br>count=%{y}<extra></extra>",
         "legendgroup": "",
         "marker": {
          "color": "#636efa",
          "pattern": {
           "shape": ""
          }
         },
         "name": "",
         "offsetgroup": "",
         "orientation": "v",
         "showlegend": false,
         "type": "histogram",
         "x": [
          300000,
          350000,
          350000,
          360000,
          370000,
          400000,
          400000,
          400000,
          400000,
          402000,
          410000,
          420000,
          430000,
          450000,
          450000,
          450000,
          450000,
          450000,
          450000,
          465000,
          469000,
          470000,
          475000,
          475000,
          475000,
          475000,
          478000,
          480000,
          480000,
          480000,
          480000,
          480000,
          489000,
          490000,
          490000,
          491000,
          497000,
          500000,
          500000,
          500000,
          500000,
          500000,
          500000,
          500000,
          500000,
          500000,
          500000,
          500000,
          500000,
          500000,
          500000,
          500000,
          500000,
          500000,
          500000,
          504000,
          504000,
          505000,
          507600,
          510000,
          510000,
          510000,
          510000,
          515000,
          515000,
          516000,
          518000,
          520000,
          520000,
          520000,
          520000,
          520000,
          520000,
          520000,
          520000,
          520000,
          520000,
          522000,
          522000,
          525000,
          525000,
          525000,
          525000,
          527000,
          528000,
          530000,
          530000,
          530000,
          530000,
          530000,
          534000,
          535000,
          535000,
          535000,
          535000,
          535000,
          535000,
          536000,
          540000,
          540000,
          540000,
          540000,
          540000,
          540000,
          540000,
          540000,
          540000,
          540000,
          540000,
          540600,
          540600,
          543500,
          543500,
          545000,
          545000,
          545000,
          545000,
          545000,
          550000,
          550000,
          550000,
          550000,
          550000,
          550000,
          550000,
          550000,
          550000,
          550000,
          550000,
          550000,
          550000,
          550000,
          550000,
          550000,
          550000,
          550000,
          550000,
          550000,
          550000,
          550000,
          552000,
          553000,
          557000,
          560000,
          560000,
          560000,
          560000,
          560000,
          560000,
          560000,
          560000,
          560000,
          560000,
          560000,
          560000,
          562200,
          562900,
          563000,
          565000,
          565000,
          565000,
          565000,
          565000,
          565000,
          565000,
          565000,
          565000,
          565000,
          568000,
          568500,
          569000,
          570000,
          570000,
          570000,
          570000,
          570000,
          570000,
          570000,
          573000,
          575000,
          575000,
          575000,
          575000,
          575600,
          576000,
          576000,
          576000,
          577500,
          578000,
          580000,
          580000,
          580000,
          580000,
          580000,
          580000,
          580000,
          580000,
          580000,
          580000,
          580000,
          581200,
          582000,
          582000,
          583000,
          583500,
          584000,
          584000,
          585000,
          585000,
          585000,
          585000,
          585000,
          588000,
          589000,
          589000,
          590000,
          590000,
          590000,
          590000,
          590000,
          590000,
          590000,
          590000,
          590000,
          590000,
          590000,
          592000,
          592800,
          593000,
          593700,
          594000,
          595000,
          597000,
          600000,
          600000,
          600000,
          600000,
          600000,
          600000,
          600000,
          600000,
          600000,
          600000,
          600000,
          600000,
          600000,
          600000,
          600000,
          600000,
          600000,
          600000,
          600000,
          600000,
          600000,
          600000,
          600000,
          600000,
          600000,
          600000,
          600000,
          600000,
          600000,
          600000,
          600000,
          600000,
          600000,
          600000,
          600000,
          600000,
          600000,
          600000,
          600000,
          600000,
          600000,
          600000,
          600000,
          600000,
          600000,
          600000,
          600000,
          600000,
          600000,
          600000,
          600000,
          601000,
          601700,
          604700,
          604800,
          605000,
          605000,
          605000,
          605000,
          605000,
          606000,
          607000,
          609000,
          609000,
          610000,
          610000,
          610000,
          610000,
          610000,
          610000,
          610000,
          610000,
          610000,
          610000,
          613000,
          615000,
          615000,
          615000,
          615000,
          618000,
          618000,
          620000,
          620000,
          620000,
          620000,
          620000,
          620000,
          620000,
          620000,
          620000,
          620000,
          620000,
          620000,
          620000,
          620000,
          620000,
          620000,
          620000,
          620000,
          620000,
          620000,
          621000,
          621000,
          622000,
          623000,
          624000,
          624000,
          624000,
          625000,
          625000,
          625000,
          625000,
          625000,
          625000,
          626100,
          630000,
          630000,
          630000,
          630000,
          630000,
          630000,
          630000,
          630000,
          630000,
          630000,
          635000,
          635000,
          635000,
          635000,
          635000,
          636000,
          637900,
          638000,
          638394,
          638500,
          640000,
          640000,
          640000,
          640000,
          640000,
          640000,
          640000,
          642000,
          642000,
          642000,
          642000,
          643058,
          644000,
          644500,
          645000,
          645000,
          645000,
          647000,
          647000,
          647000,
          650000,
          650000,
          650000,
          650000,
          650000,
          650000,
          650000,
          650000,
          650000,
          650000,
          650000,
          650000,
          650000,
          650000,
          650000,
          650000,
          650000,
          650000,
          650000,
          650000,
          650000,
          650000,
          650000,
          650000,
          650000,
          650000,
          650000,
          650000,
          650000,
          650000,
          650000,
          650000,
          650000,
          650000,
          651000,
          652000,
          653000,
          655000,
          656000,
          657638,
          660000,
          660000,
          660000,
          660000,
          660000,
          660000,
          660000,
          660000,
          660000,
          660000,
          660000,
          660000,
          660000,
          660000,
          660000,
          660000,
          662400,
          664000,
          665000,
          665000,
          665000,
          665000,
          665000,
          665300,
          665300,
          666000,
          667392,
          668862,
          669800,
          670000,
          670000,
          670000,
          670000,
          670000,
          670000,
          670000,
          670000,
          670000,
          670000,
          675000,
          675000,
          677000,
          677000,
          677000,
          678000,
          680000,
          680000,
          680000,
          680000,
          680000,
          680000,
          680000,
          680000,
          680000,
          680000,
          680000,
          680000,
          680000,
          680000,
          680000,
          684000,
          684000,
          685000,
          685800,
          687000,
          690000,
          690000,
          690000,
          690000,
          690000,
          690000,
          690000,
          690000,
          690000,
          695000,
          696000,
          696000,
          698000,
          698000,
          700000,
          700000,
          700000,
          700000,
          700000,
          700000,
          700000,
          700000,
          700000,
          700000,
          700000,
          700000,
          700000,
          700000,
          700000,
          700000,
          700000,
          700000,
          700000,
          700000,
          700000,
          700000,
          700000,
          700000,
          700000,
          700000,
          700000,
          700000,
          700000,
          700000,
          700000,
          700000,
          700000,
          700000,
          700000,
          700000,
          700000,
          700000,
          700000,
          701000,
          702000,
          702100,
          703000,
          703000,
          704000,
          705000,
          705000,
          707000,
          709000,
          710000,
          710000,
          710000,
          710000,
          710000,
          710000,
          710000,
          710000,
          710000,
          710000,
          710000,
          712000,
          714000,
          715000,
          715000,
          715000,
          715400,
          720000,
          720000,
          720000,
          720000,
          720000,
          720000,
          720000,
          720000,
          720000,
          720000,
          720000,
          720000,
          720000,
          720000,
          720000,
          720000,
          720000,
          720000,
          720000,
          720000,
          720000,
          720000,
          720000,
          720000,
          720000,
          725000,
          725000,
          725000,
          725000,
          725000,
          725000,
          725000,
          728000,
          730000,
          730000,
          730000,
          730000,
          730000,
          730000,
          731600,
          732000,
          733000,
          735000,
          736000,
          736000,
          740000,
          740000,
          740000,
          740000,
          740000,
          740000,
          740000,
          740000,
          740000,
          740000,
          740000,
          740000,
          740025,
          741000,
          742000,
          742000,
          744000,
          745000,
          750000,
          750000,
          750000,
          750000,
          750000,
          750000,
          750000,
          750000,
          750000,
          750000,
          750000,
          750000,
          750000,
          750000,
          750000,
          750000,
          750000,
          750000,
          750000,
          750000,
          750000,
          750000,
          750000,
          750000,
          750000,
          750000,
          750000,
          750000,
          750000,
          750000,
          750000,
          750000,
          750000,
          750000,
          750000,
          750000,
          752000,
          752000,
          753000,
          757746,
          760000,
          760000,
          760000,
          760000,
          762200,
          767100,
          770000,
          770000,
          770000,
          770000,
          770000,
          770000,
          770000,
          770000,
          772500,
          774000,
          775000,
          775000,
          775000,
          775000,
          775000,
          776500,
          780000,
          780000,
          780000,
          780000,
          780000,
          780000,
          780000,
          780000,
          780000,
          780000,
          780000,
          780000,
          781000,
          783000,
          785000,
          785000,
          788000,
          790000,
          790000,
          790000,
          790000,
          798000,
          800000,
          800000,
          800000,
          800000,
          800000,
          800000,
          800000,
          800000,
          800000,
          800000,
          800000,
          800000,
          800000,
          800000,
          800000,
          800000,
          800000,
          800000,
          800000,
          800000,
          800000,
          800000,
          800000,
          800000,
          800000,
          800000,
          800000,
          800000,
          800000,
          800000,
          800000,
          800000,
          800000,
          800000,
          800000,
          800000,
          800000,
          800000,
          801900,
          804000,
          805000,
          805000,
          805000,
          805000,
          807000,
          808000,
          809000,
          810000,
          810000,
          810000,
          810000,
          810000,
          810000,
          810000,
          812000,
          813000,
          815000,
          815000,
          815000,
          817000,
          818000,
          820000,
          820000,
          820000,
          820000,
          820000,
          820000,
          820000,
          820000,
          820000,
          820000,
          820000,
          820000,
          824000,
          825000,
          825000,
          825000,
          825000,
          830000,
          830000,
          830000,
          830000,
          830000,
          830000,
          830000,
          830000,
          831644,
          832000,
          835000,
          835000,
          835000,
          835000,
          836000,
          837500,
          839000,
          840000,
          840000,
          840000,
          840000,
          840000,
          840000,
          840000,
          840000,
          840000,
          840480,
          841000,
          841500,
          845000,
          846000,
          848000,
          848000,
          848000,
          850000,
          850000,
          850000,
          850000,
          850000,
          850000,
          850000,
          850000,
          850000,
          850000,
          850000,
          850000,
          850000,
          850000,
          850000,
          850000,
          850000,
          850000,
          850000,
          850000,
          850000,
          850000,
          850000,
          850000,
          850000,
          850000,
          850000,
          850000,
          850000,
          850000,
          850000,
          850000,
          850000,
          850000,
          850000,
          855000,
          855000,
          856000,
          860000,
          860000,
          860000,
          860000,
          860000,
          862000,
          865000,
          865000,
          865000,
          865000,
          865000,
          865000,
          866000,
          867000,
          869000,
          869000,
          870000,
          870000,
          872000,
          873000,
          875000,
          875000,
          875000,
          875000,
          875000,
          875000,
          875000,
          875000,
          875500,
          876000,
          878000,
          880000,
          880000,
          880000,
          880000,
          880000,
          880000,
          882000,
          883600,
          885000,
          885000,
          886000,
          887000,
          890000,
          890000,
          890000,
          890000,
          890000,
          890000,
          890000,
          890000,
          895000,
          898000,
          899000,
          900000,
          900000,
          900000,
          900000,
          900000,
          900000,
          900000,
          900000,
          900000,
          900000,
          900000,
          900000,
          900000,
          900000,
          900000,
          900000,
          900000,
          900000,
          900000,
          900000,
          900000,
          900000,
          900000,
          900000,
          900000,
          900000,
          900000,
          900000,
          900000,
          900000,
          901000,
          902700,
          903000,
          905000,
          906000,
          907000,
          910000,
          910000,
          915000,
          915000,
          915000,
          917000,
          919700,
          920000,
          920000,
          920000,
          920000,
          920000,
          920000,
          920000,
          921100,
          923000,
          924504,
          927000,
          930000,
          930000,
          930000,
          930000,
          930000,
          932000,
          935000,
          939600,
          940000,
          940000,
          940000,
          943000,
          943000,
          944000,
          946668,
          950000,
          950000,
          950000,
          950000,
          950000,
          950000,
          950000,
          950000,
          950000,
          950000,
          950000,
          950000,
          950000,
          950000,
          950000,
          950000,
          950000,
          950000,
          950000,
          950000,
          950000,
          950000,
          950000,
          950000,
          950000,
          950000,
          950000,
          953280,
          955000,
          955000,
          960000,
          960000,
          960000,
          960000,
          960000,
          965000,
          965000,
          970000,
          970000,
          970000,
          970000,
          970000,
          970000,
          970000,
          975000,
          975000,
          977600,
          980000,
          980000,
          980000,
          980000,
          980000,
          987600,
          990000,
          990000,
          990000,
          990200,
          997000,
          997000,
          997500,
          999000,
          1000000,
          1000000,
          1000000,
          1000000,
          1000000,
          1000000,
          1000000,
          1000000,
          1000000,
          1000000,
          1000000,
          1000000,
          1000000,
          1000000,
          1000000,
          1000000,
          1000000,
          1000000,
          1000000,
          1000000,
          1000000,
          1000000,
          1001000,
          1001000,
          1005000,
          1015000,
          1016000,
          1020000,
          1020000,
          1021000,
          1024000,
          1025000,
          1025000,
          1030000,
          1030000,
          1030000,
          1030000,
          1030000,
          1030000,
          1033000,
          1037000,
          1040000,
          1040000,
          1040000,
          1044000,
          1045000,
          1045000,
          1050000,
          1050000,
          1050000,
          1050000,
          1050000,
          1050000,
          1050000,
          1050000,
          1050000,
          1050000,
          1055000,
          1060000,
          1060000,
          1060000,
          1070000,
          1090000,
          1090000,
          1095000,
          1100000,
          1100000,
          1100000,
          1100000,
          1100000,
          1100000,
          1100000,
          1100000,
          1100000,
          1100000,
          1100000,
          1100000,
          1100000,
          1106000,
          1109000,
          1117000,
          1125000,
          1130000,
          1150000,
          1150000,
          1150000,
          1150000,
          1150000,
          1150000,
          1175000,
          1180000,
          1187000,
          1200000,
          1200000,
          1200000,
          1200000,
          1200000,
          1200000,
          1200000,
          1200000,
          1200000,
          1200000,
          1200000,
          1200000,
          1200000,
          1200000,
          1200000,
          1200000,
          1200000,
          1230000,
          1240000,
          1250000,
          1250000,
          1250000,
          1250000,
          1266840,
          1300000,
          1300000,
          1300000,
          1300000,
          1300000,
          1300000,
          1300000,
          1300000,
          1300000,
          1350000,
          1400000,
          1400000,
          1400000,
          1500000,
          1500000,
          1500000,
          1550000,
          1572000,
          1600000,
          1600000,
          1600000,
          1620000,
          1650000,
          1650000,
          1700000,
          1800000,
          1870000,
          2000000,
          2000000,
          2000000,
          2200000,
          2200000,
          2600000
         ],
         "xaxis": "x",
         "yaxis": "y"
        }
       ],
       "layout": {
        "barmode": "relative",
        "legend": {
         "tracegroupgap": 0
        },
        "margin": {
         "t": 60
        },
        "template": {
         "data": {
          "bar": [
           {
            "error_x": {
             "color": "#2a3f5f"
            },
            "error_y": {
             "color": "#2a3f5f"
            },
            "marker": {
             "line": {
              "color": "#E5ECF6",
              "width": 0.5
             },
             "pattern": {
              "fillmode": "overlay",
              "size": 10,
              "solidity": 0.2
             }
            },
            "type": "bar"
           }
          ],
          "barpolar": [
           {
            "marker": {
             "line": {
              "color": "#E5ECF6",
              "width": 0.5
             },
             "pattern": {
              "fillmode": "overlay",
              "size": 10,
              "solidity": 0.2
             }
            },
            "type": "barpolar"
           }
          ],
          "carpet": [
           {
            "aaxis": {
             "endlinecolor": "#2a3f5f",
             "gridcolor": "white",
             "linecolor": "white",
             "minorgridcolor": "white",
             "startlinecolor": "#2a3f5f"
            },
            "baxis": {
             "endlinecolor": "#2a3f5f",
             "gridcolor": "white",
             "linecolor": "white",
             "minorgridcolor": "white",
             "startlinecolor": "#2a3f5f"
            },
            "type": "carpet"
           }
          ],
          "choropleth": [
           {
            "colorbar": {
             "outlinewidth": 0,
             "ticks": ""
            },
            "type": "choropleth"
           }
          ],
          "contour": [
           {
            "colorbar": {
             "outlinewidth": 0,
             "ticks": ""
            },
            "colorscale": [
             [
              0,
              "#0d0887"
             ],
             [
              0.1111111111111111,
              "#46039f"
             ],
             [
              0.2222222222222222,
              "#7201a8"
             ],
             [
              0.3333333333333333,
              "#9c179e"
             ],
             [
              0.4444444444444444,
              "#bd3786"
             ],
             [
              0.5555555555555556,
              "#d8576b"
             ],
             [
              0.6666666666666666,
              "#ed7953"
             ],
             [
              0.7777777777777778,
              "#fb9f3a"
             ],
             [
              0.8888888888888888,
              "#fdca26"
             ],
             [
              1,
              "#f0f921"
             ]
            ],
            "type": "contour"
           }
          ],
          "contourcarpet": [
           {
            "colorbar": {
             "outlinewidth": 0,
             "ticks": ""
            },
            "type": "contourcarpet"
           }
          ],
          "heatmap": [
           {
            "colorbar": {
             "outlinewidth": 0,
             "ticks": ""
            },
            "colorscale": [
             [
              0,
              "#0d0887"
             ],
             [
              0.1111111111111111,
              "#46039f"
             ],
             [
              0.2222222222222222,
              "#7201a8"
             ],
             [
              0.3333333333333333,
              "#9c179e"
             ],
             [
              0.4444444444444444,
              "#bd3786"
             ],
             [
              0.5555555555555556,
              "#d8576b"
             ],
             [
              0.6666666666666666,
              "#ed7953"
             ],
             [
              0.7777777777777778,
              "#fb9f3a"
             ],
             [
              0.8888888888888888,
              "#fdca26"
             ],
             [
              1,
              "#f0f921"
             ]
            ],
            "type": "heatmap"
           }
          ],
          "heatmapgl": [
           {
            "colorbar": {
             "outlinewidth": 0,
             "ticks": ""
            },
            "colorscale": [
             [
              0,
              "#0d0887"
             ],
             [
              0.1111111111111111,
              "#46039f"
             ],
             [
              0.2222222222222222,
              "#7201a8"
             ],
             [
              0.3333333333333333,
              "#9c179e"
             ],
             [
              0.4444444444444444,
              "#bd3786"
             ],
             [
              0.5555555555555556,
              "#d8576b"
             ],
             [
              0.6666666666666666,
              "#ed7953"
             ],
             [
              0.7777777777777778,
              "#fb9f3a"
             ],
             [
              0.8888888888888888,
              "#fdca26"
             ],
             [
              1,
              "#f0f921"
             ]
            ],
            "type": "heatmapgl"
           }
          ],
          "histogram": [
           {
            "marker": {
             "pattern": {
              "fillmode": "overlay",
              "size": 10,
              "solidity": 0.2
             }
            },
            "type": "histogram"
           }
          ],
          "histogram2d": [
           {
            "colorbar": {
             "outlinewidth": 0,
             "ticks": ""
            },
            "colorscale": [
             [
              0,
              "#0d0887"
             ],
             [
              0.1111111111111111,
              "#46039f"
             ],
             [
              0.2222222222222222,
              "#7201a8"
             ],
             [
              0.3333333333333333,
              "#9c179e"
             ],
             [
              0.4444444444444444,
              "#bd3786"
             ],
             [
              0.5555555555555556,
              "#d8576b"
             ],
             [
              0.6666666666666666,
              "#ed7953"
             ],
             [
              0.7777777777777778,
              "#fb9f3a"
             ],
             [
              0.8888888888888888,
              "#fdca26"
             ],
             [
              1,
              "#f0f921"
             ]
            ],
            "type": "histogram2d"
           }
          ],
          "histogram2dcontour": [
           {
            "colorbar": {
             "outlinewidth": 0,
             "ticks": ""
            },
            "colorscale": [
             [
              0,
              "#0d0887"
             ],
             [
              0.1111111111111111,
              "#46039f"
             ],
             [
              0.2222222222222222,
              "#7201a8"
             ],
             [
              0.3333333333333333,
              "#9c179e"
             ],
             [
              0.4444444444444444,
              "#bd3786"
             ],
             [
              0.5555555555555556,
              "#d8576b"
             ],
             [
              0.6666666666666666,
              "#ed7953"
             ],
             [
              0.7777777777777778,
              "#fb9f3a"
             ],
             [
              0.8888888888888888,
              "#fdca26"
             ],
             [
              1,
              "#f0f921"
             ]
            ],
            "type": "histogram2dcontour"
           }
          ],
          "mesh3d": [
           {
            "colorbar": {
             "outlinewidth": 0,
             "ticks": ""
            },
            "type": "mesh3d"
           }
          ],
          "parcoords": [
           {
            "line": {
             "colorbar": {
              "outlinewidth": 0,
              "ticks": ""
             }
            },
            "type": "parcoords"
           }
          ],
          "pie": [
           {
            "automargin": true,
            "type": "pie"
           }
          ],
          "scatter": [
           {
            "fillpattern": {
             "fillmode": "overlay",
             "size": 10,
             "solidity": 0.2
            },
            "type": "scatter"
           }
          ],
          "scatter3d": [
           {
            "line": {
             "colorbar": {
              "outlinewidth": 0,
              "ticks": ""
             }
            },
            "marker": {
             "colorbar": {
              "outlinewidth": 0,
              "ticks": ""
             }
            },
            "type": "scatter3d"
           }
          ],
          "scattercarpet": [
           {
            "marker": {
             "colorbar": {
              "outlinewidth": 0,
              "ticks": ""
             }
            },
            "type": "scattercarpet"
           }
          ],
          "scattergeo": [
           {
            "marker": {
             "colorbar": {
              "outlinewidth": 0,
              "ticks": ""
             }
            },
            "type": "scattergeo"
           }
          ],
          "scattergl": [
           {
            "marker": {
             "colorbar": {
              "outlinewidth": 0,
              "ticks": ""
             }
            },
            "type": "scattergl"
           }
          ],
          "scattermapbox": [
           {
            "marker": {
             "colorbar": {
              "outlinewidth": 0,
              "ticks": ""
             }
            },
            "type": "scattermapbox"
           }
          ],
          "scatterpolar": [
           {
            "marker": {
             "colorbar": {
              "outlinewidth": 0,
              "ticks": ""
             }
            },
            "type": "scatterpolar"
           }
          ],
          "scatterpolargl": [
           {
            "marker": {
             "colorbar": {
              "outlinewidth": 0,
              "ticks": ""
             }
            },
            "type": "scatterpolargl"
           }
          ],
          "scatterternary": [
           {
            "marker": {
             "colorbar": {
              "outlinewidth": 0,
              "ticks": ""
             }
            },
            "type": "scatterternary"
           }
          ],
          "surface": [
           {
            "colorbar": {
             "outlinewidth": 0,
             "ticks": ""
            },
            "colorscale": [
             [
              0,
              "#0d0887"
             ],
             [
              0.1111111111111111,
              "#46039f"
             ],
             [
              0.2222222222222222,
              "#7201a8"
             ],
             [
              0.3333333333333333,
              "#9c179e"
             ],
             [
              0.4444444444444444,
              "#bd3786"
             ],
             [
              0.5555555555555556,
              "#d8576b"
             ],
             [
              0.6666666666666666,
              "#ed7953"
             ],
             [
              0.7777777777777778,
              "#fb9f3a"
             ],
             [
              0.8888888888888888,
              "#fdca26"
             ],
             [
              1,
              "#f0f921"
             ]
            ],
            "type": "surface"
           }
          ],
          "table": [
           {
            "cells": {
             "fill": {
              "color": "#EBF0F8"
             },
             "line": {
              "color": "white"
             }
            },
            "header": {
             "fill": {
              "color": "#C8D4E3"
             },
             "line": {
              "color": "white"
             }
            },
            "type": "table"
           }
          ]
         },
         "layout": {
          "annotationdefaults": {
           "arrowcolor": "#2a3f5f",
           "arrowhead": 0,
           "arrowwidth": 1
          },
          "autotypenumbers": "strict",
          "coloraxis": {
           "colorbar": {
            "outlinewidth": 0,
            "ticks": ""
           }
          },
          "colorscale": {
           "diverging": [
            [
             0,
             "#8e0152"
            ],
            [
             0.1,
             "#c51b7d"
            ],
            [
             0.2,
             "#de77ae"
            ],
            [
             0.3,
             "#f1b6da"
            ],
            [
             0.4,
             "#fde0ef"
            ],
            [
             0.5,
             "#f7f7f7"
            ],
            [
             0.6,
             "#e6f5d0"
            ],
            [
             0.7,
             "#b8e186"
            ],
            [
             0.8,
             "#7fbc41"
            ],
            [
             0.9,
             "#4d9221"
            ],
            [
             1,
             "#276419"
            ]
           ],
           "sequential": [
            [
             0,
             "#0d0887"
            ],
            [
             0.1111111111111111,
             "#46039f"
            ],
            [
             0.2222222222222222,
             "#7201a8"
            ],
            [
             0.3333333333333333,
             "#9c179e"
            ],
            [
             0.4444444444444444,
             "#bd3786"
            ],
            [
             0.5555555555555556,
             "#d8576b"
            ],
            [
             0.6666666666666666,
             "#ed7953"
            ],
            [
             0.7777777777777778,
             "#fb9f3a"
            ],
            [
             0.8888888888888888,
             "#fdca26"
            ],
            [
             1,
             "#f0f921"
            ]
           ],
           "sequentialminus": [
            [
             0,
             "#0d0887"
            ],
            [
             0.1111111111111111,
             "#46039f"
            ],
            [
             0.2222222222222222,
             "#7201a8"
            ],
            [
             0.3333333333333333,
             "#9c179e"
            ],
            [
             0.4444444444444444,
             "#bd3786"
            ],
            [
             0.5555555555555556,
             "#d8576b"
            ],
            [
             0.6666666666666666,
             "#ed7953"
            ],
            [
             0.7777777777777778,
             "#fb9f3a"
            ],
            [
             0.8888888888888888,
             "#fdca26"
            ],
            [
             1,
             "#f0f921"
            ]
           ]
          },
          "colorway": [
           "#636efa",
           "#EF553B",
           "#00cc96",
           "#ab63fa",
           "#FFA15A",
           "#19d3f3",
           "#FF6692",
           "#B6E880",
           "#FF97FF",
           "#FECB52"
          ],
          "font": {
           "color": "#2a3f5f"
          },
          "geo": {
           "bgcolor": "white",
           "lakecolor": "white",
           "landcolor": "#E5ECF6",
           "showlakes": true,
           "showland": true,
           "subunitcolor": "white"
          },
          "hoverlabel": {
           "align": "left"
          },
          "hovermode": "closest",
          "mapbox": {
           "style": "light"
          },
          "paper_bgcolor": "white",
          "plot_bgcolor": "#E5ECF6",
          "polar": {
           "angularaxis": {
            "gridcolor": "white",
            "linecolor": "white",
            "ticks": ""
           },
           "bgcolor": "#E5ECF6",
           "radialaxis": {
            "gridcolor": "white",
            "linecolor": "white",
            "ticks": ""
           }
          },
          "scene": {
           "xaxis": {
            "backgroundcolor": "#E5ECF6",
            "gridcolor": "white",
            "gridwidth": 2,
            "linecolor": "white",
            "showbackground": true,
            "ticks": "",
            "zerolinecolor": "white"
           },
           "yaxis": {
            "backgroundcolor": "#E5ECF6",
            "gridcolor": "white",
            "gridwidth": 2,
            "linecolor": "white",
            "showbackground": true,
            "ticks": "",
            "zerolinecolor": "white"
           },
           "zaxis": {
            "backgroundcolor": "#E5ECF6",
            "gridcolor": "white",
            "gridwidth": 2,
            "linecolor": "white",
            "showbackground": true,
            "ticks": "",
            "zerolinecolor": "white"
           }
          },
          "shapedefaults": {
           "line": {
            "color": "#2a3f5f"
           }
          },
          "ternary": {
           "aaxis": {
            "gridcolor": "white",
            "linecolor": "white",
            "ticks": ""
           },
           "baxis": {
            "gridcolor": "white",
            "linecolor": "white",
            "ticks": ""
           },
           "bgcolor": "#E5ECF6",
           "caxis": {
            "gridcolor": "white",
            "linecolor": "white",
            "ticks": ""
           }
          },
          "title": {
           "x": 0.05
          },
          "xaxis": {
           "automargin": true,
           "gridcolor": "white",
           "linecolor": "white",
           "ticks": "",
           "title": {
            "standoff": 15
           },
           "zerolinecolor": "white",
           "zerolinewidth": 2
          },
          "yaxis": {
           "automargin": true,
           "gridcolor": "white",
           "linecolor": "white",
           "ticks": "",
           "title": {
            "standoff": 15
           },
           "zerolinecolor": "white",
           "zerolinewidth": 2
          }
         }
        },
        "xaxis": {
         "anchor": "y",
         "domain": [
          0,
          1
         ],
         "fixedrange": true,
         "title": {
          "text": "wage"
         }
        },
        "yaxis": {
         "anchor": "x",
         "domain": [
          0,
          1
         ],
         "fixedrange": true,
         "title": {
          "text": "count"
         }
        }
       }
      },
      "text/html": [
       "<div>                            <div id=\"0610a0dd-dcd2-40a5-9811-3a1052475893\" class=\"plotly-graph-div\" style=\"height:525px; width:100%;\"></div>            <script type=\"text/javascript\">                require([\"plotly\"], function(Plotly) {                    window.PLOTLYENV=window.PLOTLYENV || {};                                    if (document.getElementById(\"0610a0dd-dcd2-40a5-9811-3a1052475893\")) {                    Plotly.newPlot(                        \"0610a0dd-dcd2-40a5-9811-3a1052475893\",                        [{\"alignmentgroup\":\"True\",\"bingroup\":\"x\",\"hovertemplate\":\"wage=%{x}<br>count=%{y}<extra></extra>\",\"legendgroup\":\"\",\"marker\":{\"color\":\"#636efa\",\"pattern\":{\"shape\":\"\"}},\"name\":\"\",\"offsetgroup\":\"\",\"orientation\":\"v\",\"showlegend\":false,\"x\":[300000.0,350000.0,350000.0,360000.0,370000.0,400000.0,400000.0,400000.0,400000.0,402000.0,410000.0,420000.0,430000.0,450000.0,450000.0,450000.0,450000.0,450000.0,450000.0,465000.0,469000.0,470000.0,475000.0,475000.0,475000.0,475000.0,478000.0,480000.0,480000.0,480000.0,480000.0,480000.0,489000.0,490000.0,490000.0,491000.0,497000.0,500000.0,500000.0,500000.0,500000.0,500000.0,500000.0,500000.0,500000.0,500000.0,500000.0,500000.0,500000.0,500000.0,500000.0,500000.0,500000.0,500000.0,500000.0,504000.0,504000.0,505000.0,507600.0,510000.0,510000.0,510000.0,510000.0,515000.0,515000.0,516000.0,518000.0,520000.0,520000.0,520000.0,520000.0,520000.0,520000.0,520000.0,520000.0,520000.0,520000.0,522000.0,522000.0,525000.0,525000.0,525000.0,525000.0,527000.0,528000.0,530000.0,530000.0,530000.0,530000.0,530000.0,534000.0,535000.0,535000.0,535000.0,535000.0,535000.0,535000.0,536000.0,540000.0,540000.0,540000.0,540000.0,540000.0,540000.0,540000.0,540000.0,540000.0,540000.0,540000.0,540600.0,540600.0,543500.0,543500.0,545000.0,545000.0,545000.0,545000.0,545000.0,550000.0,550000.0,550000.0,550000.0,550000.0,550000.0,550000.0,550000.0,550000.0,550000.0,550000.0,550000.0,550000.0,550000.0,550000.0,550000.0,550000.0,550000.0,550000.0,550000.0,550000.0,550000.0,552000.0,553000.0,557000.0,560000.0,560000.0,560000.0,560000.0,560000.0,560000.0,560000.0,560000.0,560000.0,560000.0,560000.0,560000.0,562200.0,562900.0,563000.0,565000.0,565000.0,565000.0,565000.0,565000.0,565000.0,565000.0,565000.0,565000.0,565000.0,568000.0,568500.0,569000.0,570000.0,570000.0,570000.0,570000.0,570000.0,570000.0,570000.0,573000.0,575000.0,575000.0,575000.0,575000.0,575600.0,576000.0,576000.0,576000.0,577500.0,578000.0,580000.0,580000.0,580000.0,580000.0,580000.0,580000.0,580000.0,580000.0,580000.0,580000.0,580000.0,581200.0,582000.0,582000.0,583000.0,583500.0,584000.0,584000.0,585000.0,585000.0,585000.0,585000.0,585000.0,588000.0,589000.0,589000.0,590000.0,590000.0,590000.0,590000.0,590000.0,590000.0,590000.0,590000.0,590000.0,590000.0,590000.0,592000.0,592800.0,593000.0,593700.0,594000.0,595000.0,597000.0,600000.0,600000.0,600000.0,600000.0,600000.0,600000.0,600000.0,600000.0,600000.0,600000.0,600000.0,600000.0,600000.0,600000.0,600000.0,600000.0,600000.0,600000.0,600000.0,600000.0,600000.0,600000.0,600000.0,600000.0,600000.0,600000.0,600000.0,600000.0,600000.0,600000.0,600000.0,600000.0,600000.0,600000.0,600000.0,600000.0,600000.0,600000.0,600000.0,600000.0,600000.0,600000.0,600000.0,600000.0,600000.0,600000.0,600000.0,600000.0,600000.0,600000.0,600000.0,601000.0,601700.0,604700.0,604800.0,605000.0,605000.0,605000.0,605000.0,605000.0,606000.0,607000.0,609000.0,609000.0,610000.0,610000.0,610000.0,610000.0,610000.0,610000.0,610000.0,610000.0,610000.0,610000.0,613000.0,615000.0,615000.0,615000.0,615000.0,618000.0,618000.0,620000.0,620000.0,620000.0,620000.0,620000.0,620000.0,620000.0,620000.0,620000.0,620000.0,620000.0,620000.0,620000.0,620000.0,620000.0,620000.0,620000.0,620000.0,620000.0,620000.0,621000.0,621000.0,622000.0,623000.0,624000.0,624000.0,624000.0,625000.0,625000.0,625000.0,625000.0,625000.0,625000.0,626100.0,630000.0,630000.0,630000.0,630000.0,630000.0,630000.0,630000.0,630000.0,630000.0,630000.0,635000.0,635000.0,635000.0,635000.0,635000.0,636000.0,637900.0,638000.0,638394.0,638500.0,640000.0,640000.0,640000.0,640000.0,640000.0,640000.0,640000.0,642000.0,642000.0,642000.0,642000.0,643058.0,644000.0,644500.0,645000.0,645000.0,645000.0,647000.0,647000.0,647000.0,650000.0,650000.0,650000.0,650000.0,650000.0,650000.0,650000.0,650000.0,650000.0,650000.0,650000.0,650000.0,650000.0,650000.0,650000.0,650000.0,650000.0,650000.0,650000.0,650000.0,650000.0,650000.0,650000.0,650000.0,650000.0,650000.0,650000.0,650000.0,650000.0,650000.0,650000.0,650000.0,650000.0,650000.0,651000.0,652000.0,653000.0,655000.0,656000.0,657638.0,660000.0,660000.0,660000.0,660000.0,660000.0,660000.0,660000.0,660000.0,660000.0,660000.0,660000.0,660000.0,660000.0,660000.0,660000.0,660000.0,662400.0,664000.0,665000.0,665000.0,665000.0,665000.0,665000.0,665300.0,665300.0,666000.0,667392.0,668862.0,669800.0,670000.0,670000.0,670000.0,670000.0,670000.0,670000.0,670000.0,670000.0,670000.0,670000.0,675000.0,675000.0,677000.0,677000.0,677000.0,678000.0,680000.0,680000.0,680000.0,680000.0,680000.0,680000.0,680000.0,680000.0,680000.0,680000.0,680000.0,680000.0,680000.0,680000.0,680000.0,684000.0,684000.0,685000.0,685800.0,687000.0,690000.0,690000.0,690000.0,690000.0,690000.0,690000.0,690000.0,690000.0,690000.0,695000.0,696000.0,696000.0,698000.0,698000.0,700000.0,700000.0,700000.0,700000.0,700000.0,700000.0,700000.0,700000.0,700000.0,700000.0,700000.0,700000.0,700000.0,700000.0,700000.0,700000.0,700000.0,700000.0,700000.0,700000.0,700000.0,700000.0,700000.0,700000.0,700000.0,700000.0,700000.0,700000.0,700000.0,700000.0,700000.0,700000.0,700000.0,700000.0,700000.0,700000.0,700000.0,700000.0,700000.0,701000.0,702000.0,702100.0,703000.0,703000.0,704000.0,705000.0,705000.0,707000.0,709000.0,710000.0,710000.0,710000.0,710000.0,710000.0,710000.0,710000.0,710000.0,710000.0,710000.0,710000.0,712000.0,714000.0,715000.0,715000.0,715000.0,715400.0,720000.0,720000.0,720000.0,720000.0,720000.0,720000.0,720000.0,720000.0,720000.0,720000.0,720000.0,720000.0,720000.0,720000.0,720000.0,720000.0,720000.0,720000.0,720000.0,720000.0,720000.0,720000.0,720000.0,720000.0,720000.0,725000.0,725000.0,725000.0,725000.0,725000.0,725000.0,725000.0,728000.0,730000.0,730000.0,730000.0,730000.0,730000.0,730000.0,731600.0,732000.0,733000.0,735000.0,736000.0,736000.0,740000.0,740000.0,740000.0,740000.0,740000.0,740000.0,740000.0,740000.0,740000.0,740000.0,740000.0,740000.0,740025.0,741000.0,742000.0,742000.0,744000.0,745000.0,750000.0,750000.0,750000.0,750000.0,750000.0,750000.0,750000.0,750000.0,750000.0,750000.0,750000.0,750000.0,750000.0,750000.0,750000.0,750000.0,750000.0,750000.0,750000.0,750000.0,750000.0,750000.0,750000.0,750000.0,750000.0,750000.0,750000.0,750000.0,750000.0,750000.0,750000.0,750000.0,750000.0,750000.0,750000.0,750000.0,752000.0,752000.0,753000.0,757746.0,760000.0,760000.0,760000.0,760000.0,762200.0,767100.0,770000.0,770000.0,770000.0,770000.0,770000.0,770000.0,770000.0,770000.0,772500.0,774000.0,775000.0,775000.0,775000.0,775000.0,775000.0,776500.0,780000.0,780000.0,780000.0,780000.0,780000.0,780000.0,780000.0,780000.0,780000.0,780000.0,780000.0,780000.0,781000.0,783000.0,785000.0,785000.0,788000.0,790000.0,790000.0,790000.0,790000.0,798000.0,800000.0,800000.0,800000.0,800000.0,800000.0,800000.0,800000.0,800000.0,800000.0,800000.0,800000.0,800000.0,800000.0,800000.0,800000.0,800000.0,800000.0,800000.0,800000.0,800000.0,800000.0,800000.0,800000.0,800000.0,800000.0,800000.0,800000.0,800000.0,800000.0,800000.0,800000.0,800000.0,800000.0,800000.0,800000.0,800000.0,800000.0,800000.0,801900.0,804000.0,805000.0,805000.0,805000.0,805000.0,807000.0,808000.0,809000.0,810000.0,810000.0,810000.0,810000.0,810000.0,810000.0,810000.0,812000.0,813000.0,815000.0,815000.0,815000.0,817000.0,818000.0,820000.0,820000.0,820000.0,820000.0,820000.0,820000.0,820000.0,820000.0,820000.0,820000.0,820000.0,820000.0,824000.0,825000.0,825000.0,825000.0,825000.0,830000.0,830000.0,830000.0,830000.0,830000.0,830000.0,830000.0,830000.0,831644.0,832000.0,835000.0,835000.0,835000.0,835000.0,836000.0,837500.0,839000.0,840000.0,840000.0,840000.0,840000.0,840000.0,840000.0,840000.0,840000.0,840000.0,840480.0,841000.0,841500.0,845000.0,846000.0,848000.0,848000.0,848000.0,850000.0,850000.0,850000.0,850000.0,850000.0,850000.0,850000.0,850000.0,850000.0,850000.0,850000.0,850000.0,850000.0,850000.0,850000.0,850000.0,850000.0,850000.0,850000.0,850000.0,850000.0,850000.0,850000.0,850000.0,850000.0,850000.0,850000.0,850000.0,850000.0,850000.0,850000.0,850000.0,850000.0,850000.0,850000.0,855000.0,855000.0,856000.0,860000.0,860000.0,860000.0,860000.0,860000.0,862000.0,865000.0,865000.0,865000.0,865000.0,865000.0,865000.0,866000.0,867000.0,869000.0,869000.0,870000.0,870000.0,872000.0,873000.0,875000.0,875000.0,875000.0,875000.0,875000.0,875000.0,875000.0,875000.0,875500.0,876000.0,878000.0,880000.0,880000.0,880000.0,880000.0,880000.0,880000.0,882000.0,883600.0,885000.0,885000.0,886000.0,887000.0,890000.0,890000.0,890000.0,890000.0,890000.0,890000.0,890000.0,890000.0,895000.0,898000.0,899000.0,900000.0,900000.0,900000.0,900000.0,900000.0,900000.0,900000.0,900000.0,900000.0,900000.0,900000.0,900000.0,900000.0,900000.0,900000.0,900000.0,900000.0,900000.0,900000.0,900000.0,900000.0,900000.0,900000.0,900000.0,900000.0,900000.0,900000.0,900000.0,900000.0,900000.0,901000.0,902700.0,903000.0,905000.0,906000.0,907000.0,910000.0,910000.0,915000.0,915000.0,915000.0,917000.0,919700.0,920000.0,920000.0,920000.0,920000.0,920000.0,920000.0,920000.0,921100.0,923000.0,924504.0,927000.0,930000.0,930000.0,930000.0,930000.0,930000.0,932000.0,935000.0,939600.0,940000.0,940000.0,940000.0,943000.0,943000.0,944000.0,946668.0,950000.0,950000.0,950000.0,950000.0,950000.0,950000.0,950000.0,950000.0,950000.0,950000.0,950000.0,950000.0,950000.0,950000.0,950000.0,950000.0,950000.0,950000.0,950000.0,950000.0,950000.0,950000.0,950000.0,950000.0,950000.0,950000.0,950000.0,953280.0,955000.0,955000.0,960000.0,960000.0,960000.0,960000.0,960000.0,965000.0,965000.0,970000.0,970000.0,970000.0,970000.0,970000.0,970000.0,970000.0,975000.0,975000.0,977600.0,980000.0,980000.0,980000.0,980000.0,980000.0,987600.0,990000.0,990000.0,990000.0,990200.0,997000.0,997000.0,997500.0,999000.0,1000000.0,1000000.0,1000000.0,1000000.0,1000000.0,1000000.0,1000000.0,1000000.0,1000000.0,1000000.0,1000000.0,1000000.0,1000000.0,1000000.0,1000000.0,1000000.0,1000000.0,1000000.0,1000000.0,1000000.0,1000000.0,1000000.0,1001000.0,1001000.0,1005000.0,1015000.0,1016000.0,1020000.0,1020000.0,1021000.0,1024000.0,1025000.0,1025000.0,1030000.0,1030000.0,1030000.0,1030000.0,1030000.0,1030000.0,1033000.0,1037000.0,1040000.0,1040000.0,1040000.0,1044000.0,1045000.0,1045000.0,1050000.0,1050000.0,1050000.0,1050000.0,1050000.0,1050000.0,1050000.0,1050000.0,1050000.0,1050000.0,1055000.0,1060000.0,1060000.0,1060000.0,1070000.0,1090000.0,1090000.0,1095000.0,1100000.0,1100000.0,1100000.0,1100000.0,1100000.0,1100000.0,1100000.0,1100000.0,1100000.0,1100000.0,1100000.0,1100000.0,1100000.0,1106000.0,1109000.0,1117000.0,1125000.0,1130000.0,1150000.0,1150000.0,1150000.0,1150000.0,1150000.0,1150000.0,1175000.0,1180000.0,1187000.0,1200000.0,1200000.0,1200000.0,1200000.0,1200000.0,1200000.0,1200000.0,1200000.0,1200000.0,1200000.0,1200000.0,1200000.0,1200000.0,1200000.0,1200000.0,1200000.0,1200000.0,1230000.0,1240000.0,1250000.0,1250000.0,1250000.0,1250000.0,1266840.0,1300000.0,1300000.0,1300000.0,1300000.0,1300000.0,1300000.0,1300000.0,1300000.0,1300000.0,1350000.0,1400000.0,1400000.0,1400000.0,1500000.0,1500000.0,1500000.0,1550000.0,1572000.0,1600000.0,1600000.0,1600000.0,1620000.0,1650000.0,1650000.0,1700000.0,1800000.0,1870000.0,2000000.0,2000000.0,2000000.0,2200000.0,2200000.0,2600000.0],\"xaxis\":\"x\",\"yaxis\":\"y\",\"type\":\"histogram\"}],                        {\"template\":{\"data\":{\"histogram2dcontour\":[{\"type\":\"histogram2dcontour\",\"colorbar\":{\"outlinewidth\":0,\"ticks\":\"\"},\"colorscale\":[[0.0,\"#0d0887\"],[0.1111111111111111,\"#46039f\"],[0.2222222222222222,\"#7201a8\"],[0.3333333333333333,\"#9c179e\"],[0.4444444444444444,\"#bd3786\"],[0.5555555555555556,\"#d8576b\"],[0.6666666666666666,\"#ed7953\"],[0.7777777777777778,\"#fb9f3a\"],[0.8888888888888888,\"#fdca26\"],[1.0,\"#f0f921\"]]}],\"choropleth\":[{\"type\":\"choropleth\",\"colorbar\":{\"outlinewidth\":0,\"ticks\":\"\"}}],\"histogram2d\":[{\"type\":\"histogram2d\",\"colorbar\":{\"outlinewidth\":0,\"ticks\":\"\"},\"colorscale\":[[0.0,\"#0d0887\"],[0.1111111111111111,\"#46039f\"],[0.2222222222222222,\"#7201a8\"],[0.3333333333333333,\"#9c179e\"],[0.4444444444444444,\"#bd3786\"],[0.5555555555555556,\"#d8576b\"],[0.6666666666666666,\"#ed7953\"],[0.7777777777777778,\"#fb9f3a\"],[0.8888888888888888,\"#fdca26\"],[1.0,\"#f0f921\"]]}],\"heatmap\":[{\"type\":\"heatmap\",\"colorbar\":{\"outlinewidth\":0,\"ticks\":\"\"},\"colorscale\":[[0.0,\"#0d0887\"],[0.1111111111111111,\"#46039f\"],[0.2222222222222222,\"#7201a8\"],[0.3333333333333333,\"#9c179e\"],[0.4444444444444444,\"#bd3786\"],[0.5555555555555556,\"#d8576b\"],[0.6666666666666666,\"#ed7953\"],[0.7777777777777778,\"#fb9f3a\"],[0.8888888888888888,\"#fdca26\"],[1.0,\"#f0f921\"]]}],\"heatmapgl\":[{\"type\":\"heatmapgl\",\"colorbar\":{\"outlinewidth\":0,\"ticks\":\"\"},\"colorscale\":[[0.0,\"#0d0887\"],[0.1111111111111111,\"#46039f\"],[0.2222222222222222,\"#7201a8\"],[0.3333333333333333,\"#9c179e\"],[0.4444444444444444,\"#bd3786\"],[0.5555555555555556,\"#d8576b\"],[0.6666666666666666,\"#ed7953\"],[0.7777777777777778,\"#fb9f3a\"],[0.8888888888888888,\"#fdca26\"],[1.0,\"#f0f921\"]]}],\"contourcarpet\":[{\"type\":\"contourcarpet\",\"colorbar\":{\"outlinewidth\":0,\"ticks\":\"\"}}],\"contour\":[{\"type\":\"contour\",\"colorbar\":{\"outlinewidth\":0,\"ticks\":\"\"},\"colorscale\":[[0.0,\"#0d0887\"],[0.1111111111111111,\"#46039f\"],[0.2222222222222222,\"#7201a8\"],[0.3333333333333333,\"#9c179e\"],[0.4444444444444444,\"#bd3786\"],[0.5555555555555556,\"#d8576b\"],[0.6666666666666666,\"#ed7953\"],[0.7777777777777778,\"#fb9f3a\"],[0.8888888888888888,\"#fdca26\"],[1.0,\"#f0f921\"]]}],\"surface\":[{\"type\":\"surface\",\"colorbar\":{\"outlinewidth\":0,\"ticks\":\"\"},\"colorscale\":[[0.0,\"#0d0887\"],[0.1111111111111111,\"#46039f\"],[0.2222222222222222,\"#7201a8\"],[0.3333333333333333,\"#9c179e\"],[0.4444444444444444,\"#bd3786\"],[0.5555555555555556,\"#d8576b\"],[0.6666666666666666,\"#ed7953\"],[0.7777777777777778,\"#fb9f3a\"],[0.8888888888888888,\"#fdca26\"],[1.0,\"#f0f921\"]]}],\"mesh3d\":[{\"type\":\"mesh3d\",\"colorbar\":{\"outlinewidth\":0,\"ticks\":\"\"}}],\"scatter\":[{\"fillpattern\":{\"fillmode\":\"overlay\",\"size\":10,\"solidity\":0.2},\"type\":\"scatter\"}],\"parcoords\":[{\"type\":\"parcoords\",\"line\":{\"colorbar\":{\"outlinewidth\":0,\"ticks\":\"\"}}}],\"scatterpolargl\":[{\"type\":\"scatterpolargl\",\"marker\":{\"colorbar\":{\"outlinewidth\":0,\"ticks\":\"\"}}}],\"bar\":[{\"error_x\":{\"color\":\"#2a3f5f\"},\"error_y\":{\"color\":\"#2a3f5f\"},\"marker\":{\"line\":{\"color\":\"#E5ECF6\",\"width\":0.5},\"pattern\":{\"fillmode\":\"overlay\",\"size\":10,\"solidity\":0.2}},\"type\":\"bar\"}],\"scattergeo\":[{\"type\":\"scattergeo\",\"marker\":{\"colorbar\":{\"outlinewidth\":0,\"ticks\":\"\"}}}],\"scatterpolar\":[{\"type\":\"scatterpolar\",\"marker\":{\"colorbar\":{\"outlinewidth\":0,\"ticks\":\"\"}}}],\"histogram\":[{\"marker\":{\"pattern\":{\"fillmode\":\"overlay\",\"size\":10,\"solidity\":0.2}},\"type\":\"histogram\"}],\"scattergl\":[{\"type\":\"scattergl\",\"marker\":{\"colorbar\":{\"outlinewidth\":0,\"ticks\":\"\"}}}],\"scatter3d\":[{\"type\":\"scatter3d\",\"line\":{\"colorbar\":{\"outlinewidth\":0,\"ticks\":\"\"}},\"marker\":{\"colorbar\":{\"outlinewidth\":0,\"ticks\":\"\"}}}],\"scattermapbox\":[{\"type\":\"scattermapbox\",\"marker\":{\"colorbar\":{\"outlinewidth\":0,\"ticks\":\"\"}}}],\"scatterternary\":[{\"type\":\"scatterternary\",\"marker\":{\"colorbar\":{\"outlinewidth\":0,\"ticks\":\"\"}}}],\"scattercarpet\":[{\"type\":\"scattercarpet\",\"marker\":{\"colorbar\":{\"outlinewidth\":0,\"ticks\":\"\"}}}],\"carpet\":[{\"aaxis\":{\"endlinecolor\":\"#2a3f5f\",\"gridcolor\":\"white\",\"linecolor\":\"white\",\"minorgridcolor\":\"white\",\"startlinecolor\":\"#2a3f5f\"},\"baxis\":{\"endlinecolor\":\"#2a3f5f\",\"gridcolor\":\"white\",\"linecolor\":\"white\",\"minorgridcolor\":\"white\",\"startlinecolor\":\"#2a3f5f\"},\"type\":\"carpet\"}],\"table\":[{\"cells\":{\"fill\":{\"color\":\"#EBF0F8\"},\"line\":{\"color\":\"white\"}},\"header\":{\"fill\":{\"color\":\"#C8D4E3\"},\"line\":{\"color\":\"white\"}},\"type\":\"table\"}],\"barpolar\":[{\"marker\":{\"line\":{\"color\":\"#E5ECF6\",\"width\":0.5},\"pattern\":{\"fillmode\":\"overlay\",\"size\":10,\"solidity\":0.2}},\"type\":\"barpolar\"}],\"pie\":[{\"automargin\":true,\"type\":\"pie\"}]},\"layout\":{\"autotypenumbers\":\"strict\",\"colorway\":[\"#636efa\",\"#EF553B\",\"#00cc96\",\"#ab63fa\",\"#FFA15A\",\"#19d3f3\",\"#FF6692\",\"#B6E880\",\"#FF97FF\",\"#FECB52\"],\"font\":{\"color\":\"#2a3f5f\"},\"hovermode\":\"closest\",\"hoverlabel\":{\"align\":\"left\"},\"paper_bgcolor\":\"white\",\"plot_bgcolor\":\"#E5ECF6\",\"polar\":{\"bgcolor\":\"#E5ECF6\",\"angularaxis\":{\"gridcolor\":\"white\",\"linecolor\":\"white\",\"ticks\":\"\"},\"radialaxis\":{\"gridcolor\":\"white\",\"linecolor\":\"white\",\"ticks\":\"\"}},\"ternary\":{\"bgcolor\":\"#E5ECF6\",\"aaxis\":{\"gridcolor\":\"white\",\"linecolor\":\"white\",\"ticks\":\"\"},\"baxis\":{\"gridcolor\":\"white\",\"linecolor\":\"white\",\"ticks\":\"\"},\"caxis\":{\"gridcolor\":\"white\",\"linecolor\":\"white\",\"ticks\":\"\"}},\"coloraxis\":{\"colorbar\":{\"outlinewidth\":0,\"ticks\":\"\"}},\"colorscale\":{\"sequential\":[[0.0,\"#0d0887\"],[0.1111111111111111,\"#46039f\"],[0.2222222222222222,\"#7201a8\"],[0.3333333333333333,\"#9c179e\"],[0.4444444444444444,\"#bd3786\"],[0.5555555555555556,\"#d8576b\"],[0.6666666666666666,\"#ed7953\"],[0.7777777777777778,\"#fb9f3a\"],[0.8888888888888888,\"#fdca26\"],[1.0,\"#f0f921\"]],\"sequentialminus\":[[0.0,\"#0d0887\"],[0.1111111111111111,\"#46039f\"],[0.2222222222222222,\"#7201a8\"],[0.3333333333333333,\"#9c179e\"],[0.4444444444444444,\"#bd3786\"],[0.5555555555555556,\"#d8576b\"],[0.6666666666666666,\"#ed7953\"],[0.7777777777777778,\"#fb9f3a\"],[0.8888888888888888,\"#fdca26\"],[1.0,\"#f0f921\"]],\"diverging\":[[0,\"#8e0152\"],[0.1,\"#c51b7d\"],[0.2,\"#de77ae\"],[0.3,\"#f1b6da\"],[0.4,\"#fde0ef\"],[0.5,\"#f7f7f7\"],[0.6,\"#e6f5d0\"],[0.7,\"#b8e186\"],[0.8,\"#7fbc41\"],[0.9,\"#4d9221\"],[1,\"#276419\"]]},\"xaxis\":{\"gridcolor\":\"white\",\"linecolor\":\"white\",\"ticks\":\"\",\"title\":{\"standoff\":15},\"zerolinecolor\":\"white\",\"automargin\":true,\"zerolinewidth\":2},\"yaxis\":{\"gridcolor\":\"white\",\"linecolor\":\"white\",\"ticks\":\"\",\"title\":{\"standoff\":15},\"zerolinecolor\":\"white\",\"automargin\":true,\"zerolinewidth\":2},\"scene\":{\"xaxis\":{\"backgroundcolor\":\"#E5ECF6\",\"gridcolor\":\"white\",\"linecolor\":\"white\",\"showbackground\":true,\"ticks\":\"\",\"zerolinecolor\":\"white\",\"gridwidth\":2},\"yaxis\":{\"backgroundcolor\":\"#E5ECF6\",\"gridcolor\":\"white\",\"linecolor\":\"white\",\"showbackground\":true,\"ticks\":\"\",\"zerolinecolor\":\"white\",\"gridwidth\":2},\"zaxis\":{\"backgroundcolor\":\"#E5ECF6\",\"gridcolor\":\"white\",\"linecolor\":\"white\",\"showbackground\":true,\"ticks\":\"\",\"zerolinecolor\":\"white\",\"gridwidth\":2}},\"shapedefaults\":{\"line\":{\"color\":\"#2a3f5f\"}},\"annotationdefaults\":{\"arrowcolor\":\"#2a3f5f\",\"arrowhead\":0,\"arrowwidth\":1},\"geo\":{\"bgcolor\":\"white\",\"landcolor\":\"#E5ECF6\",\"subunitcolor\":\"white\",\"showland\":true,\"showlakes\":true,\"lakecolor\":\"white\"},\"title\":{\"x\":0.05},\"mapbox\":{\"style\":\"light\"}}},\"xaxis\":{\"anchor\":\"y\",\"domain\":[0.0,1.0],\"title\":{\"text\":\"wage\"},\"fixedrange\":true},\"yaxis\":{\"anchor\":\"x\",\"domain\":[0.0,1.0],\"title\":{\"text\":\"count\"},\"fixedrange\":true},\"legend\":{\"tracegroupgap\":0},\"margin\":{\"t\":60},\"barmode\":\"relative\"},                        {\"responsive\": true}                    ).then(function(){\n",
       "                            \n",
       "var gd = document.getElementById('0610a0dd-dcd2-40a5-9811-3a1052475893');\n",
       "var x = new MutationObserver(function (mutations, observer) {{\n",
       "        var display = window.getComputedStyle(gd).display;\n",
       "        if (!display || display === 'none') {{\n",
       "            console.log([gd, 'removed!']);\n",
       "            Plotly.purge(gd);\n",
       "            observer.disconnect();\n",
       "        }}\n",
       "}});\n",
       "\n",
       "// Listen for the removal of the full notebook cells\n",
       "var notebookContainer = gd.closest('#notebook-container');\n",
       "if (notebookContainer) {{\n",
       "    x.observe(notebookContainer, {childList: true});\n",
       "}}\n",
       "\n",
       "// Listen for the clearing of the current output cell\n",
       "var outputEl = gd.closest('.output');\n",
       "if (outputEl) {{\n",
       "    x.observe(outputEl, {childList: true});\n",
       "}}\n",
       "\n",
       "                        })                };                });            </script>        </div>"
      ]
     },
     "metadata": {},
     "output_type": "display_data"
    }
   ],
   "source": [
    "import plotly.express as px\n",
    "\n",
    "fig = px.histogram(df, x=\"wage\")\n",
    "\n",
    "fig.update_xaxes(fixedrange=True)\n",
    "fig.update_yaxes(fixedrange=True)\n",
    "\n",
    "fig.show()\n",
    "\n",
    "figwrite(\"distribution\")"
   ]
  },
  {
   "cell_type": "code",
   "execution_count": 84,
   "metadata": {},
   "outputs": [
    {
     "data": {
      "text/plain": [
       "300000.0"
      ]
     },
     "execution_count": 84,
     "metadata": {},
     "output_type": "execute_result"
    }
   ],
   "source": [
    "df.wage.mean()\n",
    "df.wage.median()\n",
    "df.wage.max()\n",
    "df.wage.min()"
   ]
  }
 ],
 "metadata": {
  "kernelspec": {
   "display_name": "Python 3 (ipykernel)",
   "language": "python",
   "name": "python3"
  },
  "language_info": {
   "codemirror_mode": {
    "name": "ipython",
    "version": 3
   },
   "file_extension": ".py",
   "mimetype": "text/x-python",
   "name": "python",
   "nbconvert_exporter": "python",
   "pygments_lexer": "ipython3",
   "version": "3.9.13"
  }
 },
 "nbformat": 4,
 "nbformat_minor": 4
}
